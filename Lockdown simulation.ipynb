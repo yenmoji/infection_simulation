{
 "cells": [
  {
   "cell_type": "code",
   "execution_count": 21,
   "id": "db5d79ee-9cb6-4b5e-916c-47eb86d06b50",
   "metadata": {},
   "outputs": [],
   "source": [
    "import pandas as pd"
   ]
  },
  {
   "cell_type": "code",
   "execution_count": 259,
   "id": "89a93bd0-39dd-47ef-b323-bc69e030d144",
   "metadata": {},
   "outputs": [],
   "source": [
    "#one is infectious for 7 days, which also gives us how many infected people recover in a day\n",
    "tr=1/7\n",
    "#how many people one infects every day\n",
    "ti=3/7\n",
    "#how much of the recovered become susceptible again\n",
    "ta=1/90\n",
    "#ratio of people following lockdown\n",
    "tl=0.8\n",
    "#duration of lockdown\n",
    "td=50\n",
    "#ratio of people getting vaccine and immuned\n",
    "tv=0.2"
   ]
  },
  {
   "cell_type": "code",
   "execution_count": 224,
   "id": "698ec652-7faf-4c28-a8a4-32339c872ab0",
   "metadata": {},
   "outputs": [],
   "source": [
    "def update_func_simple(t, state, system):\n",
    "    \"\"\"\n",
    "    This is a simple update function that doesn't yet consider lockdown or re-contracting.\n",
    "    The update function is meant to transform each population state to the state of the next day.\n",
    "    \"\"\"\n",
    "    s, i, r = state.s, state.i, state.r\n",
    "    infected = state.i*state.s*system.ti\n",
    "    recovered = state.i*system.tr\n",
    "    \n",
    "    s -= infected\n",
    "    i += infected-recovered\n",
    "    r += recovered\n",
    "    \n",
    "    return state"
   ]
  },
  {
   "cell_type": "code",
   "execution_count": 260,
   "id": "704005c3-37d6-4c21-ac7d-2c9880f12f6c",
   "metadata": {},
   "outputs": [
    {
     "name": "stdout",
     "output_type": "stream",
     "text": [
      "          s       i    r\n",
      "Day                     \n",
      "0    0.9999  0.0001  0.0\n"
     ]
    }
   ],
   "source": [
    "#initialize our state\n",
    "init_state=pd.DataFrame(columns=['s', 'i', 'r'])\n",
    "init_state.loc[0]=[0.9999, 0.0001, 0]\n",
    "init_state.index.name='Day'\n",
    "print(init_state)\n",
    "#create a system that include the state\n",
    "system=pd.DataFrame(columns=['state', 'tr', 'ti', 'ta', 'tl', 'td', 'tv'])\n",
    "system.loc[0]=[init_state, tr, ti, ta, tl, td, tv]"
   ]
  },
  {
   "cell_type": "code",
   "execution_count": 247,
   "id": "08c89604-88e6-476f-ae7c-04adda834386",
   "metadata": {},
   "outputs": [],
   "source": [
    "def run_simulation(system, state, update_func, t_end):\n",
    "    \"\"\"\n",
    "    Here's a function that run the simulation by making a new data frame that records time evolution of the population state.\n",
    "    \"\"\"\n",
    "    #copy the initial state for update iteration so we don't alter the init_state\n",
    "    copy=pd.DataFrame(columns=['s', 'i', 'r'])\n",
    "    copy.loc[0]=[state.at[0, 's'],state.at[0, 'i'],state.at[0, 'r']]\n",
    "    \n",
    "    #create a separate data frame to record the progression\n",
    "    frame=pd.DataFrame(columns=['s', 'i', 'r'])\n",
    "    \n",
    "    #loop the update\n",
    "    for t in range(0, t_end):\n",
    "        frame.loc[t]=copy.loc[0]\n",
    "        update_func(t, copy, system)\n",
    "        \n",
    "    return frame"
   ]
  },
  {
   "cell_type": "code",
   "execution_count": 248,
   "id": "5e3ab5a9-0ba4-4caa-bb76-8e95962c3198",
   "metadata": {},
   "outputs": [
    {
     "data": {
      "text/plain": [
       "<Axes: >"
      ]
     },
     "execution_count": 248,
     "metadata": {},
     "output_type": "execute_result"
    },
    {
     "data": {
      "image/png": "[encoded data removed]",
      "text/plain": [
       "<Figure size 432x288 with 1 Axes>"
      ]
     },
     "metadata": {
      "needs_background": "light"
     },
     "output_type": "display_data"
    }
   ],
   "source": [
    "simple_results=run_simulation(system, init_state, update_func_simple, 300)\n",
    "simple_results.plot()"
   ]
  },
  {
   "cell_type": "code",
   "execution_count": 249,
   "id": "122da97e-1236-4a6f-af6b-43791a2a1bd8",
   "metadata": {},
   "outputs": [
    {
     "name": "stdout",
     "output_type": "stream",
     "text": [
      "            s             i         r\n",
      "0    0.999900  1.000000e-04  0.000000\n",
      "1    0.999857  1.285671e-04  0.000014\n",
      "2    0.999802  1.652927e-04  0.000033\n",
      "3    0.999731  2.125052e-04  0.000056\n",
      "4    0.999640  2.731965e-04  0.000087\n",
      "..        ...           ...       ...\n",
      "295  0.050562  2.823583e-15  0.949438\n",
      "296  0.050562  2.481400e-15  0.949438\n",
      "297  0.050562  2.180686e-15  0.949438\n",
      "298  0.050562  1.916414e-15  0.949438\n",
      "299  0.050562  1.684168e-15  0.949438\n",
      "\n",
      "[300 rows x 3 columns]\n"
     ]
    }
   ],
   "source": [
    "print(simple_results)"
   ]
  },
  {
   "cell_type": "code",
   "execution_count": 254,
   "id": "6f03ea16-8235-4114-a872-21d9e20186bf",
   "metadata": {},
   "outputs": [],
   "source": [
    "def update_func_complex(t, state, system):\n",
    "    \"\"\"\n",
    "    During lockdown, people who follow it becomes immune. In other words, they are temporarily 'recovered.'\n",
    "    People who receive vaccines are immune for around 90 days. We assume that means 1/90 of them become susceptible every day.\n",
    "    \"\"\"\n",
    "    s, i, r= state.s, state.i, state.r\n",
    "\n",
    "    if t<=td:\n",
    "        infected = i*s*(1-system.tl)*(1-system.tv)*system.ti\n",
    "        recovered = i*system.tr\n",
    "        resusceptible=r*system.ta\n",
    "    if t>td:\n",
    "        infected = i*s*(1-system.tv)*system.ti\n",
    "        recovered = i*system.tr\n",
    "        resusceptible=r*system.ta\n",
    "    \n",
    "    s -= infected\n",
    "    s += resusceptible\n",
    "    i += infected-recovered\n",
    "    r += recovered-resusceptible\n",
    "    \n",
    "    return state"
   ]
  },
  {
   "cell_type": "code",
   "execution_count": 261,
   "id": "246a0658-98bb-46ad-80ff-d078b79dc08b",
   "metadata": {},
   "outputs": [
    {
     "data": {
      "text/plain": [
       "<Axes: >"
      ]
     },
     "execution_count": 261,
     "metadata": {},
     "output_type": "execute_result"
    },
    {
     "data": {
      "image/png": "[encoded data removed]",
      "text/plain": [
       "<Figure size 432x288 with 1 Axes>"
      ]
     },
     "metadata": {
      "needs_background": "light"
     },
     "output_type": "display_data"
    }
   ],
   "source": [
    "complex_results=run_simulation(system, init_state, update_func_complex, 500)\n",
    "complex_results.plot()"
   ]
  },
  {
   "cell_type": "code",
   "execution_count": 262,
   "id": "39fe9800-1287-4a45-a140-caed0a87a2f7",
   "metadata": {},
   "outputs": [
    {
     "name": "stdout",
     "output_type": "stream",
     "text": [
      "            s         i         r\n",
      "0    0.999900  0.000100  0.000000\n",
      "1    0.999893  0.000093  0.000014\n",
      "2    0.999887  0.000086  0.000027\n",
      "3    0.999881  0.000079  0.000039\n",
      "4    0.999876  0.000073  0.000050\n",
      "..        ...       ...       ...\n",
      "495  0.420257  0.041463  0.538280\n",
      "496  0.420263  0.041514  0.538223\n",
      "497  0.420262  0.041565  0.538173\n",
      "498  0.420252  0.041617  0.538131\n",
      "499  0.420235  0.041668  0.538097\n",
      "\n",
      "[500 rows x 3 columns]\n"
     ]
    }
   ],
   "source": [
    "print(complex_results)"
   ]
  },
  {
   "cell_type": "code",
   "execution_count": null,
   "id": "41e858eb-3e79-49f5-af28-d2ee79c6ef72",
   "metadata": {},
   "outputs": [],
   "source": []
  }
 ],
 "metadata": {
  "kernelspec": {
   "display_name": "Python 3",
   "language": "python",
   "name": "python3"
  },
  "language_info": {
   "codemirror_mode": {
    "name": "ipython",
    "version": 3
   },
   "file_extension": ".py",
   "mimetype": "text/x-python",
   "name": "python",
   "nbconvert_exporter": "python",
   "pygments_lexer": "ipython3",
   "version": "3.11.5"
  }
 },
 "nbformat": 4,
 "nbformat_minor": 5
}
